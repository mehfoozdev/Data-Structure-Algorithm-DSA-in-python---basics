{
 "cells": [
  {
   "cell_type": "markdown",
   "metadata": {},
   "source": [
    "## Recursion"
   ]
  },
  {
   "cell_type": "code",
   "execution_count": 13,
   "metadata": {},
   "outputs": [
    {
     "data": {
      "text/plain": [
       "55"
      ]
     },
     "execution_count": 13,
     "metadata": {},
     "output_type": "execute_result"
    }
   ],
   "source": [
    "#Recursion\n",
    "def find_sum(n):\n",
    "    if n == 0 or n==1:\n",
    "        return n\n",
    "    return n + find_sum(n-1)\n",
    "\n",
    "find_sum(10)"
   ]
  },
  {
   "cell_type": "code",
   "execution_count": 20,
   "metadata": {},
   "outputs": [
    {
     "name": "stdout",
     "output_type": "stream",
     "text": [
      "1 1\n",
      "2 3\n",
      "3 6\n",
      "4 10\n",
      "5 15\n",
      "6 21\n",
      "7 28\n",
      "8 36\n",
      "9 45\n",
      "10 55\n"
     ]
    },
    {
     "data": {
      "text/plain": [
       "55"
      ]
     },
     "execution_count": 20,
     "metadata": {},
     "output_type": "execute_result"
    }
   ],
   "source": [
    "#Iterative\n",
    "def find_sum1(n):\n",
    "    sum = 0\n",
    "    for i in range(1, n+1):\n",
    "        sum += i\n",
    "        print(i, sum)\n",
    "    return sum\n",
    "\n",
    "\n",
    "find_sum1(10)"
   ]
  },
  {
   "cell_type": "code",
   "execution_count": null,
   "metadata": {},
   "outputs": [],
   "source": []
  },
  {
   "cell_type": "markdown",
   "metadata": {},
   "source": [
    "## Fibonacci Series"
   ]
  },
  {
   "cell_type": "code",
   "execution_count": 26,
   "metadata": {},
   "outputs": [
    {
     "data": {
      "text/plain": [
       "55"
      ]
     },
     "execution_count": 26,
     "metadata": {},
     "output_type": "execute_result"
    }
   ],
   "source": [
    "#0,1,1,2,3,5,8,13,21,34,55,89,144\n",
    "\n",
    "def fib_series(n):\n",
    "    if n==0 or n==1:\n",
    "        return n\n",
    "    \n",
    "    return fib_series(n-1) + fib_series(n-2)\n",
    "\n",
    "fib_series(10)"
   ]
  },
  {
   "cell_type": "code",
   "execution_count": 35,
   "metadata": {},
   "outputs": [
    {
     "name": "stdout",
     "output_type": "stream",
     "text": [
      "1 0 [0, 1, 1]\n",
      "1 1 [0, 1, 1, 2]\n",
      "2 1 [0, 1, 1, 2, 3]\n",
      "3 2 [0, 1, 1, 2, 3, 5]\n",
      "5 3 [0, 1, 1, 2, 3, 5, 8]\n",
      "8 5 [0, 1, 1, 2, 3, 5, 8, 13]\n",
      "13 8 [0, 1, 1, 2, 3, 5, 8, 13, 21]\n",
      "21 13 [0, 1, 1, 2, 3, 5, 8, 13, 21, 34]\n",
      "34 21 [0, 1, 1, 2, 3, 5, 8, 13, 21, 34, 55]\n"
     ]
    },
    {
     "data": {
      "text/plain": [
       "[0, 1, 1, 2, 3, 5, 8, 13, 21, 34, 55]"
      ]
     },
     "execution_count": 35,
     "metadata": {},
     "output_type": "execute_result"
    }
   ],
   "source": [
    "def fib_sequence(n):\n",
    "    fib_seq = [0, 1]  # Initialize the Fibonacci sequence with the first two numbers\n",
    "    \n",
    "    for i in range(2, n+1):\n",
    "        fib_seq.append(fib_seq[i-1] + fib_seq[i-2])  # Calculate the next Fibonacci number\n",
    "        print(fib_seq[i-1], fib_seq[i-2], fib_seq)\n",
    "        \n",
    "    return fib_seq\n",
    "\n",
    "# Example usage:\n",
    "fib_sequence(10)  # Generate the Fibonacci sequence up to the 5th number\n",
    "# fib_sequence.\n"
   ]
  },
  {
   "cell_type": "code",
   "execution_count": null,
   "metadata": {},
   "outputs": [],
   "source": []
  }
 ],
 "metadata": {
  "kernelspec": {
   "display_name": "base",
   "language": "python",
   "name": "python3"
  },
  "language_info": {
   "codemirror_mode": {
    "name": "ipython",
    "version": 3
   },
   "file_extension": ".py",
   "mimetype": "text/x-python",
   "name": "python",
   "nbconvert_exporter": "python",
   "pygments_lexer": "ipython3",
   "version": "3.11.7"
  }
 },
 "nbformat": 4,
 "nbformat_minor": 2
}
