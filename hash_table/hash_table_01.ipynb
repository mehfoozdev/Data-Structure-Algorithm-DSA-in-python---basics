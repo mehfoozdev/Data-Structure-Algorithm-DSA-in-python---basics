{
 "cells": [
  {
   "cell_type": "code",
   "execution_count": 1,
   "id": "a701e80b-f3cd-42c5-b341-6c71c57c415a",
   "metadata": {},
   "outputs": [],
   "source": [
    "stock_prices = {}\n",
    "\n",
    "with open('stock_prices.csv', 'r') as f:\n",
    "    for line in f:\n",
    "        day, price = line.split(',')\n",
    "        price = float(price)\n",
    "        stock_prices[day] = price\n",
    "    "
   ]
  },
  {
   "cell_type": "code",
   "execution_count": 2,
   "id": "4c1522de-b466-4b4e-aae3-20b159ff0e0c",
   "metadata": {},
   "outputs": [
    {
     "data": {
      "text/plain": [
       "{'march 6': 310.0,\n",
       " 'march 7': 340.0,\n",
       " 'march 8': 380.0,\n",
       " 'march 9': 302.0,\n",
       " 'march 10': 297.0,\n",
       " 'march 11': 323.0}"
      ]
     },
     "execution_count": 2,
     "metadata": {},
     "output_type": "execute_result"
    }
   ],
   "source": [
    "stock_prices"
   ]
  },
  {
   "cell_type": "code",
   "execution_count": 3,
   "id": "ac35aca8-86dd-465f-bbeb-3bfcbd801b48",
   "metadata": {},
   "outputs": [
    {
     "data": {
      "text/plain": [
       "297.0"
      ]
     },
     "execution_count": 3,
     "metadata": {},
     "output_type": "execute_result"
    }
   ],
   "source": [
    "stock_prices['march 10']"
   ]
  },
  {
   "cell_type": "code",
   "execution_count": 4,
   "id": "6d5714c5",
   "metadata": {},
   "outputs": [
    {
     "data": {
      "text/plain": [
       "302.0"
      ]
     },
     "execution_count": 4,
     "metadata": {},
     "output_type": "execute_result"
    }
   ],
   "source": [
    "stock_prices['march 9']"
   ]
  },
  {
   "cell_type": "code",
   "execution_count": 5,
   "id": "315b7329-1d13-420d-a5be-a6b1a3572aca",
   "metadata": {},
   "outputs": [
    {
     "data": {
      "text/plain": [
       "109"
      ]
     },
     "execution_count": 5,
     "metadata": {},
     "output_type": "execute_result"
    }
   ],
   "source": [
    "ord('m')"
   ]
  },
  {
   "cell_type": "code",
   "execution_count": 6,
   "id": "5730def7-f69d-421b-b911-383bf2d6a767",
   "metadata": {},
   "outputs": [],
   "source": [
    "def get_hash(key):\n",
    "    sum = 0\n",
    "    for c in key:\n",
    "        sum += ord(c)\n",
    "    return sum % 100"
   ]
  },
  {
   "cell_type": "code",
   "execution_count": 8,
   "id": "5f6b914d-4328-4cdf-b746-14ed4dfa745c",
   "metadata": {},
   "outputs": [
    {
     "data": {
      "text/plain": [
       "3"
      ]
     },
     "execution_count": 8,
     "metadata": {},
     "output_type": "execute_result"
    }
   ],
   "source": [
    "get_hash('marchaa 9a')"
   ]
  },
  {
   "cell_type": "code",
   "execution_count": 33,
   "id": "cc179b40-ea44-425c-b4a5-cbb0d2d39f7e",
   "metadata": {},
   "outputs": [],
   "source": [
    "class HashTable:\n",
    "    def __init__(self):\n",
    "        self.MAX = 100\n",
    "        self.arr = [None]*self.MAX\n",
    "\n",
    "    def get_hash(self, key):\n",
    "        sum = 0\n",
    "        for c in key:\n",
    "            sum += ord(c)\n",
    "        return sum % self.MAX\n",
    "\n",
    "    def __setitem__(self, key, value):\n",
    "        # print('set item called')\n",
    "        h = self.get_hash(key)\n",
    "        self.arr[h] = value\n",
    "    \n",
    "    def __getitem__(self, key):\n",
    "        h = self.get_hash(key)\n",
    "        return self.arr[h]\n",
    "    \n",
    "    def __delitem__(self, key):\n",
    "        h = self.get_hash(key)\n",
    "        self.arr[h] = None\n"
   ]
  },
  {
   "cell_type": "code",
   "execution_count": 34,
   "id": "5dd8fb3f",
   "metadata": {},
   "outputs": [],
   "source": [
    "h = HashTable()"
   ]
  },
  {
   "cell_type": "code",
   "execution_count": 35,
   "id": "16b117ae",
   "metadata": {},
   "outputs": [],
   "source": [
    "h['march 6'] = 302"
   ]
  },
  {
   "cell_type": "code",
   "execution_count": 36,
   "id": "6187decf",
   "metadata": {},
   "outputs": [],
   "source": [
    "h['march 11'] = 78"
   ]
  },
  {
   "cell_type": "code",
   "execution_count": 37,
   "id": "13afd548",
   "metadata": {},
   "outputs": [
    {
     "data": {
      "text/plain": [
       "[None,\n",
       " None,\n",
       " None,\n",
       " None,\n",
       " None,\n",
       " None,\n",
       " None,\n",
       " None,\n",
       " None,\n",
       " 302,\n",
       " None,\n",
       " None,\n",
       " None,\n",
       " None,\n",
       " None,\n",
       " None,\n",
       " None,\n",
       " None,\n",
       " None,\n",
       " None,\n",
       " None,\n",
       " None,\n",
       " None,\n",
       " None,\n",
       " None,\n",
       " None,\n",
       " None,\n",
       " None,\n",
       " None,\n",
       " None,\n",
       " None,\n",
       " None,\n",
       " None,\n",
       " None,\n",
       " None,\n",
       " None,\n",
       " None,\n",
       " None,\n",
       " None,\n",
       " None,\n",
       " None,\n",
       " None,\n",
       " None,\n",
       " None,\n",
       " None,\n",
       " None,\n",
       " None,\n",
       " None,\n",
       " None,\n",
       " None,\n",
       " None,\n",
       " None,\n",
       " None,\n",
       " 78,\n",
       " None,\n",
       " None,\n",
       " None,\n",
       " None,\n",
       " None,\n",
       " None,\n",
       " None,\n",
       " None,\n",
       " None,\n",
       " None,\n",
       " None,\n",
       " None,\n",
       " None,\n",
       " None,\n",
       " None,\n",
       " None,\n",
       " None,\n",
       " None,\n",
       " None,\n",
       " None,\n",
       " None,\n",
       " None,\n",
       " None,\n",
       " None,\n",
       " None,\n",
       " None,\n",
       " None,\n",
       " None,\n",
       " None,\n",
       " None,\n",
       " None,\n",
       " None,\n",
       " None,\n",
       " None,\n",
       " None,\n",
       " None,\n",
       " None,\n",
       " None,\n",
       " None,\n",
       " None,\n",
       " None,\n",
       " None,\n",
       " None,\n",
       " None,\n",
       " None,\n",
       " None]"
      ]
     },
     "execution_count": 37,
     "metadata": {},
     "output_type": "execute_result"
    }
   ],
   "source": [
    "h.arr"
   ]
  },
  {
   "cell_type": "code",
   "execution_count": 38,
   "id": "ef95d8ef",
   "metadata": {},
   "outputs": [
    {
     "data": {
      "text/plain": [
       "78"
      ]
     },
     "execution_count": 38,
     "metadata": {},
     "output_type": "execute_result"
    }
   ],
   "source": [
    "h['march 11']"
   ]
  },
  {
   "cell_type": "code",
   "execution_count": 39,
   "id": "75c108ad",
   "metadata": {},
   "outputs": [
    {
     "data": {
      "text/plain": [
       "302"
      ]
     },
     "execution_count": 39,
     "metadata": {},
     "output_type": "execute_result"
    }
   ],
   "source": [
    "h['march 6']"
   ]
  },
  {
   "cell_type": "code",
   "execution_count": 40,
   "id": "85216555",
   "metadata": {},
   "outputs": [],
   "source": [
    "del h['march 6']"
   ]
  },
  {
   "cell_type": "code",
   "execution_count": 41,
   "id": "05ec20b6",
   "metadata": {},
   "outputs": [],
   "source": [
    "h['march 6']"
   ]
  },
  {
   "cell_type": "code",
   "execution_count": 42,
   "id": "a394f583",
   "metadata": {},
   "outputs": [],
   "source": [
    "h['march 9']"
   ]
  },
  {
   "cell_type": "code",
   "execution_count": 43,
   "id": "198f1e60",
   "metadata": {},
   "outputs": [],
   "source": [
    "h['march 9'] = 302"
   ]
  },
  {
   "cell_type": "code",
   "execution_count": 44,
   "id": "a89d75de",
   "metadata": {},
   "outputs": [
    {
     "data": {
      "text/plain": [
       "302"
      ]
     },
     "execution_count": 44,
     "metadata": {},
     "output_type": "execute_result"
    }
   ],
   "source": [
    "h['march 9'] "
   ]
  },
  {
   "cell_type": "code",
   "execution_count": 47,
   "id": "fb0e5209",
   "metadata": {},
   "outputs": [],
   "source": [
    "h['march 17'] "
   ]
  },
  {
   "cell_type": "markdown",
   "id": "1ed37cc4",
   "metadata": {},
   "source": [
    "### Now HashMap Collision\n",
    "##### Separate Chaining"
   ]
  },
  {
   "cell_type": "markdown",
   "id": "fadeb258",
   "metadata": {},
   "source": []
  },
  {
   "cell_type": "code",
   "execution_count": null,
   "id": "d941a24a",
   "metadata": {},
   "outputs": [],
   "source": [
    "class HashTable:\n",
    "    def __init__(self):\n",
    "        self.MAX = 10\n",
    "        self.arr = [[] for i in range(self.MAX)]\n",
    "\n",
    "    def get_hash(self, key):\n",
    "        sum = 0\n",
    "        for c in key:\n",
    "            sum += ord(c)\n",
    "        return sum % self.MAX\n",
    "\n",
    "    def __getitem__(self, index):\n",
    "        h = self.get_hash(index)\n",
    "        for kv in self.arr[h]:\n",
    "            if kv[0] == kv:\n",
    "                return kv[1]\n",
    "    \n",
    "    def __setitem__(self, key, value):\n",
    "        # print('set item called')\n",
    "        h = self.get_hash(key)\n",
    "        for idx, element in enumerate(self.arr[h]):\n",
    "            if len(element)==2 and element[0] == key:\n",
    "                self.arr[h]            \n",
    "        self.arr[h].append((key, value)) \n",
    "    \n",
    "    def __delitem__(self, key):\n",
    "        h = self.get_hash(key)\n",
    "        self.arr[h] = None\n"
   ]
  },
  {
   "cell_type": "markdown",
   "id": "9991f92d",
   "metadata": {},
   "source": []
  }
 ],
 "metadata": {
  "kernelspec": {
   "display_name": "Python 3 (ipykernel)",
   "language": "python",
   "name": "python3"
  },
  "language_info": {
   "codemirror_mode": {
    "name": "ipython",
    "version": 3
   },
   "file_extension": ".py",
   "mimetype": "text/x-python",
   "name": "python",
   "nbconvert_exporter": "python",
   "pygments_lexer": "ipython3",
   "version": "3.11.7"
  }
 },
 "nbformat": 4,
 "nbformat_minor": 5
}
