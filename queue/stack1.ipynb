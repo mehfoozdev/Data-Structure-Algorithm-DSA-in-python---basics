{
 "cells": [
  {
   "cell_type": "code",
   "execution_count": 1,
   "id": "31d6bef9",
   "metadata": {},
   "outputs": [],
   "source": [
    "from collections import deque"
   ]
  },
  {
   "cell_type": "code",
   "execution_count": 2,
   "id": "d45ed4d1",
   "metadata": {},
   "outputs": [],
   "source": [
    "q = deque()"
   ]
  },
  {
   "cell_type": "code",
   "execution_count": 3,
   "id": "5bb6aef2",
   "metadata": {},
   "outputs": [
    {
     "data": {
      "text/plain": [
       "deque([15, 8, 5])"
      ]
     },
     "execution_count": 3,
     "metadata": {},
     "output_type": "execute_result"
    }
   ],
   "source": [
    "q.appendleft(5)\n",
    "q.appendleft(8)\n",
    "q.appendleft(15)\n",
    "q"
   ]
  },
  {
   "cell_type": "code",
   "execution_count": 6,
   "id": "ffb3ed31",
   "metadata": {},
   "outputs": [
    {
     "ename": "IndexError",
     "evalue": "pop from an empty deque",
     "output_type": "error",
     "traceback": [
      "\u001b[1;31m---------------------------------------------------------------------------\u001b[0m",
      "\u001b[1;31mIndexError\u001b[0m                                Traceback (most recent call last)",
      "Cell \u001b[1;32mIn[6], line 1\u001b[0m\n\u001b[1;32m----> 1\u001b[0m q\u001b[38;5;241m.\u001b[39mpop()\n\u001b[0;32m      2\u001b[0m q\u001b[38;5;241m.\u001b[39mpop()\n",
      "\u001b[1;31mIndexError\u001b[0m: pop from an empty deque"
     ]
    }
   ],
   "source": [
    "q.pop()\n",
    "q.pop()\n"
   ]
  },
  {
   "cell_type": "code",
   "execution_count": 7,
   "id": "7afbdccd",
   "metadata": {},
   "outputs": [
    {
     "data": {
      "text/plain": [
       "deque([])"
      ]
     },
     "execution_count": 7,
     "metadata": {},
     "output_type": "execute_result"
    }
   ],
   "source": [
    "q"
   ]
  },
  {
   "cell_type": "code",
   "execution_count": 8,
   "id": "65d37de4",
   "metadata": {},
   "outputs": [],
   "source": [
    "from collections import deque\n",
    "\n",
    "\n",
    "class Queue:\n",
    "    def __init__(self):\n",
    "        self.buffer = deque()\n",
    "    \n",
    "    def enque(self, value):\n",
    "        self.buffer.appendleft(value)\n",
    "    \n",
    "    def deque(self):\n",
    "        return self.buffer.pop()\n",
    "    \n",
    "    def is_empty(self):\n",
    "        return len(self.buffer) == 0\n",
    "    \n",
    "    def size(self):\n",
    "        return len(self.buffer)\n",
    "        "
   ]
  },
  {
   "cell_type": "code",
   "execution_count": 9,
   "id": "ad3b26e6",
   "metadata": {},
   "outputs": [],
   "source": [
    "qp = Queue()\n",
    "qp.enque({\n",
    "    'company': 'Wall Mart',\n",
    "    'timestamp': '15 apr, 11.01 AM',\n",
    "    'price': 131.10\n",
    "})\n",
    "\n",
    "qp.enque({\n",
    "    'company': 'Mehfoo Mart',\n",
    "    'timestamp': '18 apr, 11.05 AM',\n",
    "    'price': 831.10\n",
    "})\n",
    "\n",
    "qp.enque({\n",
    "    'company': 'Warq Book',\n",
    "    'timestamp': '18 apr, 11.05 AM',\n",
    "    'price': 205.10\n",
    "})"
   ]
  },
  {
   "cell_type": "code",
   "execution_count": 12,
   "id": "0021bdfa",
   "metadata": {},
   "outputs": [
    {
     "data": {
      "text/plain": [
       "3"
      ]
     },
     "execution_count": 12,
     "metadata": {},
     "output_type": "execute_result"
    }
   ],
   "source": [
    "qp.size()"
   ]
  },
  {
   "cell_type": "code",
   "execution_count": 13,
   "id": "91d45ba6",
   "metadata": {},
   "outputs": [
    {
     "data": {
      "text/plain": [
       "{'company': 'Wall Mart', 'timestamp': '15 apr, 11.01 AM', 'price': 131.1}"
      ]
     },
     "execution_count": 13,
     "metadata": {},
     "output_type": "execute_result"
    }
   ],
   "source": [
    "qp.deque()"
   ]
  },
  {
   "cell_type": "code",
   "execution_count": 14,
   "id": "38ead852",
   "metadata": {},
   "outputs": [
    {
     "data": {
      "text/plain": [
       "{'company': 'Mehfoo Mart', 'timestamp': '18 apr, 11.05 AM', 'price': 831.1}"
      ]
     },
     "execution_count": 14,
     "metadata": {},
     "output_type": "execute_result"
    }
   ],
   "source": [
    "qp.deque()"
   ]
  },
  {
   "cell_type": "code",
   "execution_count": null,
   "id": "ccab63c5",
   "metadata": {},
   "outputs": [],
   "source": []
  },
  {
   "cell_type": "code",
   "execution_count": null,
   "id": "7227ee7a",
   "metadata": {},
   "outputs": [],
   "source": []
  },
  {
   "cell_type": "markdown",
   "id": "ff6de128",
   "metadata": {},
   "source": [
    "## Exercise"
   ]
  },
  {
   "cell_type": "code",
   "execution_count": 15,
   "id": "58a26d12",
   "metadata": {},
   "outputs": [
    {
     "name": "stdout",
     "output_type": "stream",
     "text": [
      "Placing order for: pizza\n"
     ]
    },
    {
     "name": "stdout",
     "output_type": "stream",
     "text": [
      "Placing order for: samosa\n",
      "Placing order for: pasta\n",
      "Now serving:  pizza\n",
      "Placing order for: biryani\n",
      "Placing order for: burger\n",
      "Now serving:  samosa\n",
      "Now serving:  pasta\n",
      "Now serving:  biryani\n",
      "Now serving:  burger\n",
      "Queue is empty\n",
      "Now serving:  None\n",
      "Queue is empty\n",
      "Now serving:  None\n",
      "Queue is empty\n",
      "Now serving:  None\n",
      "Queue is empty\n",
      "Now serving:  None\n",
      "Queue is empty\n",
      "Now serving:  None\n",
      "Queue is empty\n",
      "Now serving:  None\n",
      "Queue is empty\n",
      "Now serving:  None\n",
      "Queue is empty\n",
      "Now serving:  None\n",
      "Queue is empty\n",
      "Now serving:  None\n",
      "Queue is empty\n",
      "Now serving:  None\n",
      "Queue is empty\n",
      "Now serving:  None\n",
      "Queue is empty\n",
      "Now serving:  None\n",
      "Queue is empty\n",
      "Now serving:  None\n",
      "Queue is empty\n",
      "Now serving:  None\n",
      "Queue is empty\n",
      "Now serving:  None\n",
      "Queue is empty\n",
      "Now serving:  None\n",
      "Queue is empty\n",
      "Now serving:  None\n",
      "Queue is empty\n",
      "Now serving:  None\n",
      "Queue is empty\n",
      "Now serving:  None\n",
      "Queue is empty\n",
      "Now serving:  None\n",
      "Queue is empty\n",
      "Now serving:  None\n",
      "Queue is empty\n",
      "Now serving:  None\n",
      "Queue is empty\n",
      "Now serving:  None\n",
      "Queue is empty\n",
      "Now serving:  None\n",
      "Queue is empty\n",
      "Now serving:  None\n",
      "Queue is empty\n",
      "Now serving:  None\n",
      "Queue is empty\n",
      "Now serving:  None\n",
      "Queue is empty\n",
      "Now serving:  None\n",
      "Queue is empty\n",
      "Now serving:  None\n",
      "Queue is empty\n",
      "Now serving:  None\n",
      "Queue is empty\n",
      "Now serving:  None\n",
      "Queue is empty\n",
      "Now serving:  None\n",
      "Queue is empty\n",
      "Now serving:  None\n",
      "Queue is empty\n",
      "Now serving:  None\n",
      "Queue is empty\n",
      "Now serving:  None\n",
      "Queue is empty\n",
      "Now serving:  None\n",
      "Queue is empty\n",
      "Now serving:  None\n",
      "Queue is empty\n",
      "Now serving:  None\n",
      "Queue is empty\n",
      "Now serving:  None\n",
      "Queue is empty\n",
      "Now serving:  None\n",
      "Queue is empty\n",
      "Now serving:  None\n",
      "Queue is empty\n",
      "Now serving:  None\n",
      "Queue is empty\n",
      "Now serving:  None\n",
      "Queue is empty\n",
      "Now serving:  None\n",
      "Queue is empty\n",
      "Now serving:  None\n",
      "Queue is empty\n",
      "Now serving:  None\n",
      "Queue is empty\n",
      "Now serving:  None\n",
      "Queue is empty\n",
      "Now serving:  None\n",
      "Queue is empty\n",
      "Now serving:  None\n",
      "Queue is empty\n",
      "Now serving:  None\n",
      "Queue is empty\n",
      "Now serving:  None\n",
      "Queue is empty\n",
      "Now serving:  None\n",
      "Queue is empty\n",
      "Now serving:  None\n",
      "Queue is empty\n",
      "Now serving:  None\n",
      "Queue is empty\n",
      "Now serving:  None\n",
      "Queue is empty\n",
      "Now serving:  None\n",
      "Queue is empty\n",
      "Now serving:  None\n",
      "Queue is empty\n",
      "Now serving:  None\n",
      "Queue is empty\n",
      "Now serving:  None\n",
      "Queue is empty\n",
      "Now serving:  None\n",
      "Queue is empty\n",
      "Now serving:  None\n",
      "Queue is empty\n",
      "Now serving:  None\n",
      "Queue is empty\n",
      "Now serving:  None\n",
      "Queue is empty\n",
      "Now serving:  None\n",
      "Queue is empty\n",
      "Now serving:  None\n",
      "Queue is empty\n",
      "Now serving:  None\n"
     ]
    }
   ],
   "source": [
    "import threading\n",
    "import time\n",
    "\n",
    "from collections import deque\n",
    "\n",
    "class Queue:\n",
    "    def __init__(self):\n",
    "        self.buffer = deque()\n",
    "\n",
    "    def enqueue(self, val):\n",
    "        self.buffer.appendleft(val)\n",
    "\n",
    "    def dequeue(self):\n",
    "        if len(self.buffer)==0:\n",
    "            print(\"Queue is empty\")\n",
    "            return\n",
    "\n",
    "        return self.buffer.pop()\n",
    "\n",
    "    def is_empty(self):\n",
    "        return len(self.buffer) == 0\n",
    "\n",
    "    def size(self):\n",
    "        return len(self.buffer)\n",
    "\n",
    "food_order_queue = Queue()\n",
    "\n",
    "def place_orders(orders):\n",
    "    for order in orders:\n",
    "        print(\"Placing order for:\",order)\n",
    "        food_order_queue.enqueue(order)\n",
    "        time.sleep(0.5)\n",
    "\n",
    "\n",
    "def serve_orders():\n",
    "    time.sleep(1)\n",
    "    while True:\n",
    "        order = food_order_queue.dequeue()\n",
    "        print(\"Now serving: \",order)\n",
    "        time.sleep(2)\n",
    "\n",
    "if __name__ == '__main__':\n",
    "    orders = ['pizza','samosa','pasta','biryani','burger']\n",
    "    t1 = threading.Thread(target=place_orders, args=(orders,))\n",
    "    t2 = threading.Thread(target=serve_orders)\n",
    "\n",
    "    t1.start()\n",
    "    t2.start()"
   ]
  },
  {
   "cell_type": "code",
   "execution_count": null,
   "id": "27aa1957",
   "metadata": {},
   "outputs": [],
   "source": []
  }
 ],
 "metadata": {
  "kernelspec": {
   "display_name": "Python 3 (ipykernel)",
   "language": "python",
   "name": "python3"
  },
  "language_info": {
   "codemirror_mode": {
    "name": "ipython",
    "version": 3
   },
   "file_extension": ".py",
   "mimetype": "text/x-python",
   "name": "python",
   "nbconvert_exporter": "python",
   "pygments_lexer": "ipython3",
   "version": "3.11.7"
  }
 },
 "nbformat": 4,
 "nbformat_minor": 5
}
