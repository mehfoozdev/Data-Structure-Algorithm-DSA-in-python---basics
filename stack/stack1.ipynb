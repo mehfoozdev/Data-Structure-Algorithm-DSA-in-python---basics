{
 "cells": [
  {
   "cell_type": "code",
   "execution_count": 3,
   "id": "31d6bef9",
   "metadata": {},
   "outputs": [],
   "source": [
    "from collections import deque\n",
    "stack = deque()"
   ]
  },
  {
   "cell_type": "code",
   "execution_count": 5,
   "id": "2bb1c728",
   "metadata": {},
   "outputs": [
    {
     "data": {
      "text/plain": [
       "['__add__',\n",
       " '__class__',\n",
       " '__class_getitem__',\n",
       " '__contains__',\n",
       " '__copy__',\n",
       " '__delattr__',\n",
       " '__delitem__',\n",
       " '__dir__',\n",
       " '__doc__',\n",
       " '__eq__',\n",
       " '__format__',\n",
       " '__ge__',\n",
       " '__getattribute__',\n",
       " '__getitem__',\n",
       " '__getstate__',\n",
       " '__gt__',\n",
       " '__hash__',\n",
       " '__iadd__',\n",
       " '__imul__',\n",
       " '__init__',\n",
       " '__init_subclass__',\n",
       " '__iter__',\n",
       " '__le__',\n",
       " '__len__',\n",
       " '__lt__',\n",
       " '__mul__',\n",
       " '__ne__',\n",
       " '__new__',\n",
       " '__reduce__',\n",
       " '__reduce_ex__',\n",
       " '__repr__',\n",
       " '__reversed__',\n",
       " '__rmul__',\n",
       " '__setattr__',\n",
       " '__setitem__',\n",
       " '__sizeof__',\n",
       " '__str__',\n",
       " '__subclasshook__',\n",
       " 'append',\n",
       " 'appendleft',\n",
       " 'clear',\n",
       " 'copy',\n",
       " 'count',\n",
       " 'extend',\n",
       " 'extendleft',\n",
       " 'index',\n",
       " 'insert',\n",
       " 'maxlen',\n",
       " 'pop',\n",
       " 'popleft',\n",
       " 'remove',\n",
       " 'reverse',\n",
       " 'rotate']"
      ]
     },
     "execution_count": 5,
     "metadata": {},
     "output_type": "execute_result"
    }
   ],
   "source": [
    "dir(stack)"
   ]
  },
  {
   "cell_type": "code",
   "execution_count": 6,
   "id": "833103f5",
   "metadata": {},
   "outputs": [
    {
     "data": {
      "text/plain": [
       "deque(['https://www.mehfooz.com/'])"
      ]
     },
     "execution_count": 6,
     "metadata": {},
     "output_type": "execute_result"
    }
   ],
   "source": [
    "stack.append('https://www.mehfooz.com/')\n",
    "stack"
   ]
  },
  {
   "cell_type": "code",
   "execution_count": 7,
   "id": "c1d651df",
   "metadata": {},
   "outputs": [
    {
     "data": {
      "text/plain": [
       "deque(['https://www.mehfooz.com/', 'https://www.mehfooz.com/about-me'])"
      ]
     },
     "execution_count": 7,
     "metadata": {},
     "output_type": "execute_result"
    }
   ],
   "source": [
    "stack.append('https://www.mehfooz.com/about-me')\n",
    "stack"
   ]
  },
  {
   "cell_type": "code",
   "execution_count": 8,
   "id": "7e4b710b",
   "metadata": {},
   "outputs": [
    {
     "data": {
      "text/plain": [
       "deque(['https://www.mehfooz.com/',\n",
       "       'https://www.mehfooz.com/about-me',\n",
       "       'https://www.mehfooz.com/services'])"
      ]
     },
     "execution_count": 8,
     "metadata": {},
     "output_type": "execute_result"
    }
   ],
   "source": [
    "stack.append('https://www.mehfooz.com/services')\n",
    "stack"
   ]
  },
  {
   "cell_type": "code",
   "execution_count": 9,
   "id": "efb50398",
   "metadata": {},
   "outputs": [
    {
     "data": {
      "text/plain": [
       "'https://www.mehfooz.com/services'"
      ]
     },
     "execution_count": 9,
     "metadata": {},
     "output_type": "execute_result"
    }
   ],
   "source": [
    "stack.pop()"
   ]
  },
  {
   "cell_type": "code",
   "execution_count": 10,
   "id": "83e1e5fb",
   "metadata": {},
   "outputs": [
    {
     "data": {
      "text/plain": [
       "'https://www.mehfooz.com/about-me'"
      ]
     },
     "execution_count": 10,
     "metadata": {},
     "output_type": "execute_result"
    }
   ],
   "source": [
    "stack.pop()"
   ]
  },
  {
   "cell_type": "code",
   "execution_count": 11,
   "id": "93ffadff",
   "metadata": {},
   "outputs": [
    {
     "data": {
      "text/plain": [
       "'https://www.mehfooz.com/'"
      ]
     },
     "execution_count": 11,
     "metadata": {},
     "output_type": "execute_result"
    }
   ],
   "source": [
    "stack.pop()"
   ]
  },
  {
   "cell_type": "code",
   "execution_count": 12,
   "id": "abfc3372",
   "metadata": {},
   "outputs": [
    {
     "data": {
      "text/plain": [
       "deque([])"
      ]
     },
     "execution_count": 12,
     "metadata": {},
     "output_type": "execute_result"
    }
   ],
   "source": [
    "stack"
   ]
  },
  {
   "cell_type": "code",
   "execution_count": 13,
   "id": "e94e2de8",
   "metadata": {},
   "outputs": [],
   "source": [
    "class Stack:\n",
    "    def __init__(self):\n",
    "        self.container = deque()\n",
    "    \n",
    "    def push(self, val):\n",
    "        self.container.append(val)\n",
    "    \n",
    "    def pop(self):\n",
    "        return self.container.pop()\n",
    "    \n",
    "    def peek(self):\n",
    "        return self.container[-1]\n",
    "\n",
    "    def is_empty(self):\n",
    "        return len(self.container==0)\n",
    "    \n",
    "    def size(self):\n",
    "        return len(self.container)"
   ]
  },
  {
   "cell_type": "code",
   "execution_count": 14,
   "id": "5385aa2f",
   "metadata": {},
   "outputs": [],
   "source": [
    "s = Stack()"
   ]
  },
  {
   "cell_type": "code",
   "execution_count": 15,
   "id": "1bee1d4e",
   "metadata": {},
   "outputs": [
    {
     "data": {
      "text/plain": [
       "<__main__.Stack at 0x1e321f8f610>"
      ]
     },
     "execution_count": 15,
     "metadata": {},
     "output_type": "execute_result"
    }
   ],
   "source": [
    "s.push(5)\n",
    "s"
   ]
  },
  {
   "cell_type": "code",
   "execution_count": 16,
   "id": "5ea0e0b8",
   "metadata": {},
   "outputs": [
    {
     "data": {
      "text/plain": [
       "<__main__.Stack at 0x1e321f8f610>"
      ]
     },
     "execution_count": 16,
     "metadata": {},
     "output_type": "execute_result"
    }
   ],
   "source": [
    "s.push(10)\n",
    "s"
   ]
  },
  {
   "cell_type": "code",
   "execution_count": 17,
   "id": "0f0f2547",
   "metadata": {},
   "outputs": [
    {
     "data": {
      "text/plain": [
       "deque([5, 10])"
      ]
     },
     "execution_count": 17,
     "metadata": {},
     "output_type": "execute_result"
    }
   ],
   "source": [
    "s.container"
   ]
  },
  {
   "cell_type": "code",
   "execution_count": 18,
   "id": "114cda4a",
   "metadata": {},
   "outputs": [
    {
     "data": {
      "text/plain": [
       "10"
      ]
     },
     "execution_count": 18,
     "metadata": {},
     "output_type": "execute_result"
    }
   ],
   "source": [
    "s.pop()"
   ]
  },
  {
   "cell_type": "code",
   "execution_count": 19,
   "id": "2a25f7f0",
   "metadata": {},
   "outputs": [
    {
     "data": {
      "text/plain": [
       "deque([5])"
      ]
     },
     "execution_count": 19,
     "metadata": {},
     "output_type": "execute_result"
    }
   ],
   "source": [
    "s.container"
   ]
  },
  {
   "cell_type": "code",
   "execution_count": 20,
   "id": "4f40186c",
   "metadata": {},
   "outputs": [
    {
     "data": {
      "text/plain": [
       "<__main__.Stack at 0x1e321f8f610>"
      ]
     },
     "execution_count": 20,
     "metadata": {},
     "output_type": "execute_result"
    }
   ],
   "source": [
    "s.push(18)\n",
    "s"
   ]
  },
  {
   "cell_type": "code",
   "execution_count": 21,
   "id": "74adaf0c",
   "metadata": {},
   "outputs": [
    {
     "data": {
      "text/plain": [
       "deque([5, 18])"
      ]
     },
     "execution_count": 21,
     "metadata": {},
     "output_type": "execute_result"
    }
   ],
   "source": [
    "s.container"
   ]
  },
  {
   "cell_type": "code",
   "execution_count": 28,
   "id": "c7db6474",
   "metadata": {},
   "outputs": [
    {
     "ename": "TypeError",
     "evalue": "object of type 'bool' has no len()",
     "output_type": "error",
     "traceback": [
      "\u001b[1;31m---------------------------------------------------------------------------\u001b[0m",
      "\u001b[1;31mTypeError\u001b[0m                                 Traceback (most recent call last)",
      "Cell \u001b[1;32mIn[28], line 1\u001b[0m\n\u001b[1;32m----> 1\u001b[0m s\u001b[38;5;241m.\u001b[39mis_empty()\n\u001b[0;32m      2\u001b[0m s\n",
      "Cell \u001b[1;32mIn[13], line 15\u001b[0m, in \u001b[0;36mStack.is_empty\u001b[1;34m(self)\u001b[0m\n\u001b[0;32m     14\u001b[0m \u001b[38;5;28;01mdef\u001b[39;00m \u001b[38;5;21mis_empty\u001b[39m(\u001b[38;5;28mself\u001b[39m):\n\u001b[1;32m---> 15\u001b[0m     \u001b[38;5;28;01mreturn\u001b[39;00m \u001b[38;5;28mlen\u001b[39m(\u001b[38;5;28mself\u001b[39m\u001b[38;5;241m.\u001b[39mcontainer \u001b[38;5;241m==\u001b[39m \u001b[38;5;241m0\u001b[39m)\n",
      "\u001b[1;31mTypeError\u001b[0m: object of type 'bool' has no len()"
     ]
    }
   ],
   "source": [
    "s.is_empty()\n",
    "s"
   ]
  },
  {
   "cell_type": "code",
   "execution_count": 30,
   "id": "5b91e1c8",
   "metadata": {},
   "outputs": [
    {
     "data": {
      "text/plain": [
       "18"
      ]
     },
     "execution_count": 30,
     "metadata": {},
     "output_type": "execute_result"
    }
   ],
   "source": [
    "s.peek()"
   ]
  },
  {
   "cell_type": "code",
   "execution_count": null,
   "id": "16ef83fa",
   "metadata": {},
   "outputs": [],
   "source": []
  },
  {
   "cell_type": "code",
   "execution_count": null,
   "id": "3d1ef943",
   "metadata": {},
   "outputs": [],
   "source": []
  },
  {
   "cell_type": "code",
   "execution_count": null,
   "id": "e11534b8",
   "metadata": {},
   "outputs": [],
   "source": []
  },
  {
   "cell_type": "markdown",
   "id": "95a4a89b",
   "metadata": {},
   "source": [
    "## Practice Exercise"
   ]
  },
  {
   "cell_type": "markdown",
   "id": "15ac6fd1",
   "metadata": {},
   "source": [
    "#### Certainly! Let's break down each line of the provided code:\n",
    "\n",
    "\n",
    "def ReverseString(userInput):\n",
    "\n",
    "This line defines a function named ReverseString that takes one parameter userInput, which presumably is a string that we want to reverse.\n",
    "python\n",
    "\n",
    "stack = Stack()\n",
    "This line creates an instance of the Stack class and assigns it to the variable stack. The Stack class likely contains methods for pushing, popping, and other stack operations.\n",
    "\n",
    "\n",
    "    for ch in userInput:\n",
    "        stack.push(ch)\n",
    "This block of code iterates over each character ch in the userInput string and pushes each character onto the stack using the push method. This effectively reverses the order of characters in the stack compared to the original string.\n",
    "\n",
    "\n",
    "\n",
    "    revString = ''\n",
    "    while stack.size()!=0:\n",
    "        revString += stack.pop()\n",
    "\n",
    "This block of code initializes an empty string revString to store the reversed string. It then enters a while loop that continues as long as the stack is not empty (i.e., its size is not equal to 0). Inside the loop, it pops each character from the stack using the pop method and appends it to the revString string. This effectively reverses the order of characters back to the original order.\n",
    "\n",
    "\n",
    "\n",
    "    return revString\n",
    "Finally, this line returns the reversed string stored in the revString variable.\n",
    "In summary, the provided function ReverseString reverses the order of characters in a string by pushing each character onto a stack, and then popping the characters from the stack to construct the reversed string. The stack effectively reverses the order of characters due to its Last In, First Out (LIFO) behavior."
   ]
  },
  {
   "cell_type": "code",
   "execution_count": 32,
   "id": "eb2f3953",
   "metadata": {},
   "outputs": [],
   "source": [
    "def ReverseString(userInput):\n",
    "    stack = Stack()\n",
    "\n",
    "    for ch in userInput:\n",
    "        stack.push(ch)\n",
    "    \n",
    "    revString = ''\n",
    "    while stack.size()!=0:\n",
    "        revString += stack.pop()\n",
    "    return revString"
   ]
  },
  {
   "cell_type": "code",
   "execution_count": 37,
   "id": "3c822fb8",
   "metadata": {},
   "outputs": [
    {
     "name": "stdout",
     "output_type": "stream",
     "text": [
      "ila zoofhem ma I\n",
      "repoleveD nohtyP flesym dnA\n",
      "zoofhem\n"
     ]
    }
   ],
   "source": [
    "print(ReverseString('I am mehfooz ali'))\n",
    "print(ReverseString('And myself Python Developer'))\n",
    "print(ReverseString('mehfooz'))"
   ]
  },
  {
   "cell_type": "code",
   "execution_count": 35,
   "id": "e8c9e591",
   "metadata": {},
   "outputs": [
    {
     "data": {
      "text/plain": [
       "deque([])"
      ]
     },
     "execution_count": 35,
     "metadata": {},
     "output_type": "execute_result"
    }
   ],
   "source": [
    "stack"
   ]
  },
  {
   "cell_type": "code",
   "execution_count": 36,
   "id": "1902e0fd",
   "metadata": {},
   "outputs": [
    {
     "name": "stdout",
     "output_type": "stream",
     "text": [
      "zoofhem\n"
     ]
    }
   ],
   "source": [
    "#Simple\n",
    "\n",
    "name = 'mehfooz'\n",
    "print(name[::-1])"
   ]
  },
  {
   "cell_type": "code",
   "execution_count": null,
   "id": "a60dc7ba",
   "metadata": {},
   "outputs": [],
   "source": []
  }
 ],
 "metadata": {
  "kernelspec": {
   "display_name": "Python 3 (ipykernel)",
   "language": "python",
   "name": "python3"
  },
  "language_info": {
   "codemirror_mode": {
    "name": "ipython",
    "version": 3
   },
   "file_extension": ".py",
   "mimetype": "text/x-python",
   "name": "python",
   "nbconvert_exporter": "python",
   "pygments_lexer": "ipython3",
   "version": "3.11.7"
  }
 },
 "nbformat": 4,
 "nbformat_minor": 5
}
